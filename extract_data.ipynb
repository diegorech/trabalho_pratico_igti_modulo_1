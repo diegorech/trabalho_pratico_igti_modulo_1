{
 "metadata": {
  "language_info": {
   "codemirror_mode": {
    "name": "ipython",
    "version": 3
   },
   "file_extension": ".py",
   "mimetype": "text/x-python",
   "name": "python",
   "nbconvert_exporter": "python",
   "pygments_lexer": "ipython3",
   "version": "3.8.5-final"
  },
  "orig_nbformat": 2,
  "kernelspec": {
   "name": "python3",
   "display_name": "Python 3.8.5 32-bit",
   "metadata": {
    "interpreter": {
     "hash": "c6a01172e0ccb2a0720a58619d54d23c117301ab698ec61a5d6bd14ee4adc5a1"
    }
   }
  }
 },
 "nbformat": 4,
 "nbformat_minor": 2,
 "cells": [
  {
   "source": [
    "# Objetivos\n",
    "### Exercitar os seguintes conceitos trabalhados no Módulo:\n",
    "- Extração de Dados;\n",
    "- Desenvolvimento de crawlers;\n",
    "- Transformações e análise de dados.\n",
    "\n",
    "# Enunciado\n",
    "Você é uma pessoa da área de Engenheira de Dados em uma empresa de consultoria\n",
    "educacional. Os consultores da empresa vão auxiliar um grupo educacional de ensino\n",
    "médio a desenvolver seu planejamento pedagógico e suas metodologias de ensino.\n",
    "Nesse sentido, eles fizeram a você uma requisição de preparar dados do ENEM para\n",
    "análise.\n",
    "\n",
    "Você deve, portanto, extrair os dados do ENEM, selecionar apenas os alunos de Minas\n",
    "Gerais e apresentar algumas análises que vão ajudar o trabalho dos consultores.\n",
    "\n",
    "# Atividades\n",
    "\n",
    "### Você deverá desempenhar as seguintes atividades:\n",
    "    1. Extrair, de maneira programática, os dados do ENEM 2019.\n",
    "    2. Filtrar apenas os alunos do estado de Minas Gerais.\n",
    "    3. Salvar um arquivo CSV com os dados já limpos em seu computador.\n",
    "    4. Escrever os dados numa tabela relacional em uma base de dados de sua escolha (MySQL, PostgreSQL, SQL Server etc.).\n",
    "\n",
    "# Respostas Finais\n",
    "Após a realização da atividade, utilize linguagem SQL ou uma linguagem de programação\n",
    "de sua escolha para responder às questões objetivas"
   ],
   "cell_type": "markdown",
   "metadata": {}
  },
  {
   "cell_type": "code",
   "execution_count": 1,
   "metadata": {},
   "outputs": [],
   "source": [
    "# Importações necessárias\n",
    "import pandas as pandas\n",
    "import zipfile\n",
    "import requests # Realizar request para o site do inep e realizar o download dos dados\n",
    "from io import BytesIO # Configurar os inputs dos dados para trabalhar no ambiente python\n",
    "import os"
   ]
  },
  {
   "cell_type": "code",
   "execution_count": 2,
   "metadata": {},
   "outputs": [],
   "source": [
    "\n",
    "# Como os dados do Enade chegam em um zip com vários arquivos, precisamos armazena-los em uma pasta para depois trabalhar-mos com eles\n",
    "\n",
    "os.makedirs('./enem2019', exist_ok=True)\n"
   ]
  },
  {
   "cell_type": "code",
   "execution_count": 4,
   "metadata": {},
   "outputs": [],
   "source": [
    "'''\n",
    "    exists_ok=True, para que se executarmo o código mais de 1 vez, não retorne um erro.\n",
    "    Se a pasta já existir, nada acontecerá e o processo continuará em execução\n",
    "'''\n",
    "\n",
    "url_enem_2019 = \"http://download.inep.gov.br/microdados/microdados_enem_2019.zip\""
   ]
  },
  {
   "cell_type": "code",
   "execution_count": 4,
   "metadata": {},
   "outputs": [],
   "source": [
    "# Download do conteúdo\n",
    "filebytes = BytesIO( # Possuí o retorno do request realizado\n",
    "    requests.get(url_enem_2019).content\n",
    ")"
   ]
  },
  {
   "cell_type": "code",
   "execution_count": 5,
   "metadata": {},
   "outputs": [],
   "source": [
    "# Informando o Python de que o arquivo é um .zip\n",
    "myzip = zipfile.ZipFile(filebytes)\n",
    "# Extração dos dados\n",
    "myzip.extractall('./enem2019')"
   ]
  },
  {
   "cell_type": "code",
   "execution_count": 6,
   "metadata": {},
   "outputs": [],
   "source": [
    "# Gerando um pandas dataframe a partir dos dados baixados\n",
    "\n",
    "enem_df = pandas.read_csv(\n",
    "    './enem2019/microdados_enade_2019/2019/3.DADOS/microdados_enade_2019.txt',\n",
    "    sep = ';',\n",
    "    decimal = ','\n",
    ")"
   ]
  },
  {
   "cell_type": "code",
   "execution_count": 7,
   "metadata": {},
   "outputs": [
    {
     "output_type": "stream",
     "name": "stdout",
     "text": [
      "<class 'pandas.core.frame.DataFrame'>\nRangeIndex: 433930 entries, 0 to 433929\nColumns: 137 entries, NU_ANO to QE_I68\ndtypes: float64(61), int64(33), object(43)\nmemory usage: 382.4+ MB\n"
     ]
    }
   ],
   "source": [
    "# Printa informações sobre o dataframe\n",
    "enem_df.info()"
   ]
  },
  {
   "cell_type": "code",
   "execution_count": 8,
   "metadata": {},
   "outputs": [
    {
     "output_type": "stream",
     "name": "stdout",
     "text": [
      "{'NU_ANO': dtype('int64'), 'CO_IES': dtype('int64'), 'CO_CATEGAD': dtype('int64'), 'CO_ORGACAD': dtype('int64'), 'CO_GRUPO': dtype('int64'), 'CO_CURSO': dtype('int64'), 'CO_MODALIDADE': dtype('int64'), 'CO_MUNIC_CURSO': dtype('int64'), 'CO_UF_CURSO': dtype('int64'), 'CO_REGIAO_CURSO': dtype('int64'), 'NU_IDADE': dtype('int64'), 'TP_SEXO': dtype('O'), 'ANO_FIM_EM': dtype('int64'), 'ANO_IN_GRAD': dtype('float64'), 'CO_TURNO_GRADUACAO': dtype('float64'), 'TP_INSCRICAO_ADM': dtype('int64'), 'TP_INSCRICAO': dtype('int64'), 'NU_ITEM_OFG': dtype('int64'), 'NU_ITEM_OFG_Z': dtype('int64'), 'NU_ITEM_OFG_X': dtype('int64'), 'NU_ITEM_OFG_N': dtype('int64'), 'NU_ITEM_OCE': dtype('int64'), 'NU_ITEM_OCE_Z': dtype('int64'), 'NU_ITEM_OCE_X': dtype('int64'), 'NU_ITEM_OCE_N': dtype('int64'), 'DS_VT_GAB_OFG_ORIG': dtype('O'), 'DS_VT_GAB_OFG_FIN': dtype('O'), 'DS_VT_GAB_OCE_ORIG': dtype('O'), 'DS_VT_GAB_OCE_FIN': dtype('O'), 'DS_VT_ESC_OFG': dtype('O'), 'DS_VT_ACE_OFG': dtype('O'), 'DS_VT_ESC_OCE': dtype('O'), 'DS_VT_ACE_OCE': dtype('O'), 'TP_PRES': dtype('int64'), 'TP_PR_GER': dtype('int64'), 'TP_PR_OB_FG': dtype('int64'), 'TP_PR_DI_FG': dtype('int64'), 'TP_PR_OB_CE': dtype('int64'), 'TP_PR_DI_CE': dtype('int64'), 'TP_SFG_D1': dtype('int64'), 'TP_SFG_D2': dtype('int64'), 'TP_SCE_D1': dtype('int64'), 'TP_SCE_D2': dtype('int64'), 'TP_SCE_D3': dtype('int64'), 'NT_GER': dtype('float64'), 'NT_FG': dtype('float64'), 'NT_OBJ_FG': dtype('float64'), 'NT_DIS_FG': dtype('float64'), 'NT_FG_D1': dtype('float64'), 'NT_FG_D1_PT': dtype('float64'), 'NT_FG_D1_CT': dtype('float64'), 'NT_FG_D2': dtype('float64'), 'NT_FG_D2_PT': dtype('float64'), 'NT_FG_D2_CT': dtype('float64'), 'NT_CE': dtype('float64'), 'NT_OBJ_CE': dtype('float64'), 'NT_DIS_CE': dtype('float64'), 'NT_CE_D1': dtype('float64'), 'NT_CE_D2': dtype('float64'), 'NT_CE_D3': dtype('float64'), 'CO_RS_I1': dtype('O'), 'CO_RS_I2': dtype('O'), 'CO_RS_I3': dtype('O'), 'CO_RS_I4': dtype('O'), 'CO_RS_I5': dtype('O'), 'CO_RS_I6': dtype('O'), 'CO_RS_I7': dtype('O'), 'CO_RS_I8': dtype('O'), 'CO_RS_I9': dtype('O'), 'QE_I01': dtype('O'), 'QE_I02': dtype('O'), 'QE_I03': dtype('O'), 'QE_I04': dtype('O'), 'QE_I05': dtype('O'), 'QE_I06': dtype('O'), 'QE_I07': dtype('O'), 'QE_I08': dtype('O'), 'QE_I09': dtype('O'), 'QE_I10': dtype('O'), 'QE_I11': dtype('O'), 'QE_I12': dtype('O'), 'QE_I13': dtype('O'), 'QE_I14': dtype('O'), 'QE_I15': dtype('O'), 'QE_I16': dtype('float64'), 'QE_I17': dtype('O'), 'QE_I18': dtype('O'), 'QE_I19': dtype('O'), 'QE_I20': dtype('O'), 'QE_I21': dtype('O'), 'QE_I22': dtype('O'), 'QE_I23': dtype('O'), 'QE_I24': dtype('O'), 'QE_I25': dtype('O'), 'QE_I26': dtype('O'), 'QE_I27': dtype('float64'), 'QE_I28': dtype('float64'), 'QE_I29': dtype('float64'), 'QE_I30': dtype('float64'), 'QE_I31': dtype('float64'), 'QE_I32': dtype('float64'), 'QE_I33': dtype('float64'), 'QE_I34': dtype('float64'), 'QE_I35': dtype('float64'), 'QE_I36': dtype('float64'), 'QE_I37': dtype('float64'), 'QE_I38': dtype('float64'), 'QE_I39': dtype('float64'), 'QE_I40': dtype('float64'), 'QE_I41': dtype('float64'), 'QE_I42': dtype('float64'), 'QE_I43': dtype('float64'), 'QE_I44': dtype('float64'), 'QE_I45': dtype('float64'), 'QE_I46': dtype('float64'), 'QE_I47': dtype('float64'), 'QE_I48': dtype('float64'), 'QE_I49': dtype('float64'), 'QE_I50': dtype('float64'), 'QE_I51': dtype('float64'), 'QE_I52': dtype('float64'), 'QE_I53': dtype('float64'), 'QE_I54': dtype('float64'), 'QE_I55': dtype('float64'), 'QE_I56': dtype('float64'), 'QE_I57': dtype('float64'), 'QE_I58': dtype('float64'), 'QE_I59': dtype('float64'), 'QE_I60': dtype('float64'), 'QE_I61': dtype('float64'), 'QE_I62': dtype('float64'), 'QE_I63': dtype('float64'), 'QE_I64': dtype('float64'), 'QE_I65': dtype('float64'), 'QE_I66': dtype('float64'), 'QE_I67': dtype('float64'), 'QE_I68': dtype('float64')}\n"
     ]
    }
   ],
   "source": [
    "print(dict(enem_df.dtypes)) "
   ]
  },
  {
   "cell_type": "code",
   "execution_count": 9,
   "metadata": {},
   "outputs": [
    {
     "output_type": "stream",
     "name": "stdout",
     "text": [
      "Chamando o script que irá realizar as tranformações dos dados\n"
     ]
    },
    {
     "output_type": "execute_result",
     "data": {
      "text/plain": [
       "2"
      ]
     },
     "metadata": {},
     "execution_count": 9
    }
   ],
   "source": [
    "print('Chamando o script que irá realizar as tranformações dos dados')\n",
    "\n",
    "os.system('python transform_data.ipynb')"
   ]
  },
  {
   "source": [
    "### Continua nos scripts: \n",
    "`transform_data.ipynb`\n",
    "e\n",
    "`load_data.ipynb`"
   ],
   "cell_type": "markdown",
   "metadata": {}
  },
  {
   "cell_type": "code",
   "execution_count": null,
   "metadata": {},
   "outputs": [],
   "source": []
  }
 ]
}