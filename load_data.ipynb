{
 "metadata": {
  "language_info": {
   "codemirror_mode": {
    "name": "ipython",
    "version": 3
   },
   "file_extension": ".py",
   "mimetype": "text/x-python",
   "name": "python",
   "nbconvert_exporter": "python",
   "pygments_lexer": "ipython3",
   "version": "3.8.5-final"
  },
  "orig_nbformat": 2,
  "kernelspec": {
   "name": "python3",
   "display_name": "Python 3.8.5 32-bit",
   "metadata": {
    "interpreter": {
     "hash": "c6a01172e0ccb2a0720a58619d54d23c117301ab698ec61a5d6bd14ee4adc5a1"
    }
   }
  }
 },
 "nbformat": 4,
 "nbformat_minor": 2,
 "cells": [
  {
   "source": [
    "### Continuação do Script\n",
    "`transform_data.ipynb`"
   ],
   "cell_type": "markdown",
   "metadata": {}
  },
  {
   "source": [
    "## Importações necesárias"
   ],
   "cell_type": "markdown",
   "metadata": {}
  },
  {
   "cell_type": "code",
   "execution_count": 1,
   "metadata": {},
   "outputs": [],
   "source": [
    "import pyodbc\n",
    "import sqlalchemy\n",
    "import pandas as pd"
   ]
  },
  {
   "cell_type": "code",
   "execution_count": 3,
   "metadata": {},
   "outputs": [],
   "source": [
    "# Gerando um DataFrame pandas \n",
    "enem_mg_df = pd.read_csv(\n",
    "    './enem_alunos_mg.csv', \n",
    "    sep=';', \n",
    "    decimal=',',\n",
    "    encoding='latin-1'\n",
    ")\n"
   ]
  },
  {
   "source": [
    "## Informaçãoes sobre o DataFrame"
   ],
   "cell_type": "markdown",
   "metadata": {}
  },
  {
   "cell_type": "code",
   "execution_count": 5,
   "metadata": {},
   "outputs": [
    {
     "output_type": "execute_result",
     "data": {
      "text/plain": [
       "(53656, 139)"
      ]
     },
     "metadata": {},
     "execution_count": 5
    }
   ],
   "source": [
    "enem_mg_df.shape"
   ]
  },
  {
   "cell_type": "code",
   "execution_count": 7,
   "metadata": {},
   "outputs": [
    {
     "output_type": "stream",
     "name": "stdout",
     "text": [
      "<class 'pandas.core.frame.DataFrame'>\nRangeIndex: 53656 entries, 0 to 53655\nColumns: 139 entries, NU_ANO to DESC_COR\ndtypes: float64(61), int64(31), object(47)\nmemory usage: 47.3+ MB\n"
     ]
    }
   ],
   "source": [
    "enem_mg_df.info()"
   ]
  },
  {
   "source": [
    "## Criando uma conexão com o banco de dados SQL Server"
   ],
   "cell_type": "markdown",
   "metadata": {}
  },
  {
   "cell_type": "code",
   "execution_count": 8,
   "metadata": {},
   "outputs": [],
   "source": [
    "engine = sqlalchemy.create_engine(\n",
    "    f'mssql+pyodbc://@localhost/enem_mg?Integrated Security=True;driver=ODBC+Driver+17+for+SQL+Server'\n",
    ")"
   ]
  },
  {
   "source": [
    "### Ingestão dos dados "
   ],
   "cell_type": "markdown",
   "metadata": {}
  },
  {
   "cell_type": "code",
   "execution_count": 10,
   "metadata": {},
   "outputs": [],
   "source": [
    "enade_mg_df.to_sql('enem_mg', con=engine, index=False, if_exists='append')"
   ]
  },
  {
   "cell_type": "code",
   "execution_count": 18,
   "metadata": {},
   "outputs": [
    {
     "output_type": "execute_result",
     "data": {
      "text/plain": [
       "{'NU_ANO': dtype('int64'),\n",
       " 'CO_IES': dtype('int64'),\n",
       " 'CO_CATEGAD': dtype('int64'),\n",
       " 'CO_ORGACAD': dtype('int64'),\n",
       " 'CO_GRUPO': dtype('int64'),\n",
       " 'CO_CURSO': dtype('int64'),\n",
       " 'CO_MODALIDADE': dtype('O'),\n",
       " 'CO_MUNIC_CURSO': dtype('int64'),\n",
       " 'CO_UF_CURSO': dtype('int64'),\n",
       " 'CO_REGIAO_CURSO': dtype('O'),\n",
       " 'NU_IDADE': dtype('int64'),\n",
       " 'TP_SEXO': dtype('O'),\n",
       " 'ANO_FIM_EM': dtype('int64'),\n",
       " 'ANO_IN_GRAD': dtype('float64'),\n",
       " 'CO_TURNO_GRADUACAO': dtype('float64'),\n",
       " 'TP_INSCRICAO_ADM': dtype('int64'),\n",
       " 'TP_INSCRICAO': dtype('int64'),\n",
       " 'NU_ITEM_OFG': dtype('int64'),\n",
       " 'NU_ITEM_OFG_Z': dtype('int64'),\n",
       " 'NU_ITEM_OFG_X': dtype('int64'),\n",
       " 'NU_ITEM_OFG_N': dtype('int64'),\n",
       " 'NU_ITEM_OCE': dtype('int64'),\n",
       " 'NU_ITEM_OCE_Z': dtype('int64'),\n",
       " 'NU_ITEM_OCE_X': dtype('int64'),\n",
       " 'NU_ITEM_OCE_N': dtype('int64'),\n",
       " 'DS_VT_GAB_OFG_ORIG': dtype('O'),\n",
       " 'DS_VT_GAB_OFG_FIN': dtype('O'),\n",
       " 'DS_VT_GAB_OCE_ORIG': dtype('O'),\n",
       " 'DS_VT_GAB_OCE_FIN': dtype('O'),\n",
       " 'DS_VT_ESC_OFG': dtype('O'),\n",
       " 'DS_VT_ACE_OFG': dtype('O'),\n",
       " 'DS_VT_ESC_OCE': dtype('O'),\n",
       " 'DS_VT_ACE_OCE': dtype('O'),\n",
       " 'TP_PRES': dtype('int64'),\n",
       " 'TP_PR_GER': dtype('int64'),\n",
       " 'TP_PR_OB_FG': dtype('int64'),\n",
       " 'TP_PR_DI_FG': dtype('int64'),\n",
       " 'TP_PR_OB_CE': dtype('int64'),\n",
       " 'TP_PR_DI_CE': dtype('int64'),\n",
       " 'TP_SFG_D1': dtype('int64'),\n",
       " 'TP_SFG_D2': dtype('int64'),\n",
       " 'TP_SCE_D1': dtype('int64'),\n",
       " 'TP_SCE_D2': dtype('int64'),\n",
       " 'TP_SCE_D3': dtype('int64'),\n",
       " 'NT_GER': dtype('float64'),\n",
       " 'NT_FG': dtype('float64'),\n",
       " 'NT_OBJ_FG': dtype('float64'),\n",
       " 'NT_DIS_FG': dtype('float64'),\n",
       " 'NT_FG_D1': dtype('float64'),\n",
       " 'NT_FG_D1_PT': dtype('float64'),\n",
       " 'NT_FG_D1_CT': dtype('float64'),\n",
       " 'NT_FG_D2': dtype('float64'),\n",
       " 'NT_FG_D2_PT': dtype('float64'),\n",
       " 'NT_FG_D2_CT': dtype('float64'),\n",
       " 'NT_CE': dtype('float64'),\n",
       " 'NT_OBJ_CE': dtype('float64'),\n",
       " 'NT_DIS_CE': dtype('float64'),\n",
       " 'NT_CE_D1': dtype('float64'),\n",
       " 'NT_CE_D2': dtype('float64'),\n",
       " 'NT_CE_D3': dtype('float64'),\n",
       " 'CO_RS_I1': dtype('O'),\n",
       " 'CO_RS_I2': dtype('O'),\n",
       " 'CO_RS_I3': dtype('O'),\n",
       " 'CO_RS_I4': dtype('O'),\n",
       " 'CO_RS_I5': dtype('O'),\n",
       " 'CO_RS_I6': dtype('O'),\n",
       " 'CO_RS_I7': dtype('O'),\n",
       " 'CO_RS_I8': dtype('O'),\n",
       " 'CO_RS_I9': dtype('O'),\n",
       " 'QE_I01': dtype('O'),\n",
       " 'QE_I02': dtype('O'),\n",
       " 'QE_I03': dtype('O'),\n",
       " 'QE_I04': dtype('O'),\n",
       " 'QE_I05': dtype('O'),\n",
       " 'QE_I06': dtype('O'),\n",
       " 'QE_I07': dtype('O'),\n",
       " 'QE_I08': dtype('O'),\n",
       " 'QE_I09': dtype('O'),\n",
       " 'QE_I10': dtype('O'),\n",
       " 'QE_I11': dtype('O'),\n",
       " 'QE_I12': dtype('O'),\n",
       " 'QE_I13': dtype('O'),\n",
       " 'QE_I14': dtype('O'),\n",
       " 'QE_I15': dtype('O'),\n",
       " 'QE_I16': dtype('float64'),\n",
       " 'QE_I17': dtype('O'),\n",
       " 'QE_I18': dtype('O'),\n",
       " 'QE_I19': dtype('O'),\n",
       " 'QE_I20': dtype('O'),\n",
       " 'QE_I21': dtype('O'),\n",
       " 'QE_I22': dtype('O'),\n",
       " 'QE_I23': dtype('O'),\n",
       " 'QE_I24': dtype('O'),\n",
       " 'QE_I25': dtype('O'),\n",
       " 'QE_I26': dtype('O'),\n",
       " 'QE_I27': dtype('float64'),\n",
       " 'QE_I28': dtype('float64'),\n",
       " 'QE_I29': dtype('float64'),\n",
       " 'QE_I30': dtype('float64'),\n",
       " 'QE_I31': dtype('float64'),\n",
       " 'QE_I32': dtype('float64'),\n",
       " 'QE_I33': dtype('float64'),\n",
       " 'QE_I34': dtype('float64'),\n",
       " 'QE_I35': dtype('float64'),\n",
       " 'QE_I36': dtype('float64'),\n",
       " 'QE_I37': dtype('float64'),\n",
       " 'QE_I38': dtype('float64'),\n",
       " 'QE_I39': dtype('float64'),\n",
       " 'QE_I40': dtype('float64'),\n",
       " 'QE_I41': dtype('float64'),\n",
       " 'QE_I42': dtype('float64'),\n",
       " 'QE_I43': dtype('float64'),\n",
       " 'QE_I44': dtype('float64'),\n",
       " 'QE_I45': dtype('float64'),\n",
       " 'QE_I46': dtype('float64'),\n",
       " 'QE_I47': dtype('float64'),\n",
       " 'QE_I48': dtype('float64'),\n",
       " 'QE_I49': dtype('float64'),\n",
       " 'QE_I50': dtype('float64'),\n",
       " 'QE_I51': dtype('float64'),\n",
       " 'QE_I52': dtype('float64'),\n",
       " 'QE_I53': dtype('float64'),\n",
       " 'QE_I54': dtype('float64'),\n",
       " 'QE_I55': dtype('float64'),\n",
       " 'QE_I56': dtype('float64'),\n",
       " 'QE_I57': dtype('float64'),\n",
       " 'QE_I58': dtype('float64'),\n",
       " 'QE_I59': dtype('float64'),\n",
       " 'QE_I60': dtype('float64'),\n",
       " 'QE_I61': dtype('float64'),\n",
       " 'QE_I62': dtype('float64'),\n",
       " 'QE_I63': dtype('float64'),\n",
       " 'QE_I64': dtype('float64'),\n",
       " 'QE_I65': dtype('float64'),\n",
       " 'QE_I66': dtype('float64'),\n",
       " 'QE_I67': dtype('float64'),\n",
       " 'QE_I68': dtype('float64'),\n",
       " 'DESC_PUBLICA': dtype('O'),\n",
       " 'DESC_COR': dtype('O')}"
      ]
     },
     "metadata": {},
     "execution_count": 18
    }
   ],
   "source": [
    "dict(enade_mg_df.dtypes)"
   ]
  },
  {
   "cell_type": "code",
   "execution_count": null,
   "metadata": {},
   "outputs": [],
   "source": []
  }
 ]
}