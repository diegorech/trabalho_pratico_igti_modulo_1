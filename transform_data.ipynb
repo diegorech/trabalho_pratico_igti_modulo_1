{
 "metadata": {
  "language_info": {
   "codemirror_mode": {
    "name": "ipython",
    "version": 3
   },
   "file_extension": ".py",
   "mimetype": "text/x-python",
   "name": "python",
   "nbconvert_exporter": "python",
   "pygments_lexer": "ipython3",
   "version": "3.8.5-final"
  },
  "orig_nbformat": 2,
  "kernelspec": {
   "name": "python3",
   "display_name": "Python 3.8.5 32-bit",
   "metadata": {
    "interpreter": {
     "hash": "c6a01172e0ccb2a0720a58619d54d23c117301ab698ec61a5d6bd14ee4adc5a1"
    }
   }
  }
 },
 "nbformat": 4,
 "nbformat_minor": 2,
 "cells": [
  {
   "source": [
    "### Continuação do Scrip \n",
    "`extract_data.ipynb`"
   ],
   "cell_type": "markdown",
   "metadata": {}
  },
  {
   "source": [
    "### Importações necessárias"
   ],
   "cell_type": "markdown",
   "metadata": {}
  },
  {
   "cell_type": "code",
   "execution_count": 1,
   "metadata": {},
   "outputs": [],
   "source": [
    "import pandas as pd\n",
    "import numpy as np\n",
    "import os"
   ]
  },
  {
   "source": [
    "### Gera um DataFrame pandas do csv"
   ],
   "cell_type": "markdown",
   "metadata": {}
  },
  {
   "cell_type": "code",
   "execution_count": 5,
   "metadata": {},
   "outputs": [],
   "source": [
    "enade_df = pd.read_csv(\n",
    "    './enem2019/microdados_enem_2019/',\n",
    "    sep = ';',\n",
    "    decimal = ','\n",
    ") "
   ]
  },
  {
   "source": [
    "# Analises Iniciais"
   ],
   "cell_type": "markdown",
   "metadata": {}
  },
  {
   "cell_type": "code",
   "execution_count": 6,
   "metadata": {},
   "outputs": [
    {
     "output_type": "stream",
     "name": "stdout",
     "text": [
      "\nInformações sobre: Dataframe\n"
     ]
    },
    {
     "output_type": "execute_result",
     "data": {
      "text/plain": [
       "(433930, 137)"
      ]
     },
     "metadata": {},
     "execution_count": 6
    }
   ],
   "source": [
    "print('\\nInformações sobre: Dataframe')\n",
    "enem_df.shape"
   ]
  },
  {
   "cell_type": "code",
   "execution_count": 7,
   "metadata": {},
   "outputs": [
    {
     "output_type": "stream",
     "name": "stdout",
     "text": [
      "\nInformações sobre: Notas Gerais\n"
     ]
    },
    {
     "output_type": "execute_result",
     "data": {
      "text/plain": [
       "count    390091.000000\n",
       "mean         44.076610\n",
       "std          14.542059\n",
       "min           0.000000\n",
       "25%          33.200000\n",
       "50%          43.800000\n",
       "75%          54.800000\n",
       "max          93.000000\n",
       "Name: NT_GER, dtype: float64"
      ]
     },
     "metadata": {},
     "execution_count": 7
    }
   ],
   "source": [
    "print('\\nInformações sobre: Notas Gerais')\n",
    "enem_df.NT_GER.describe()"
   ]
  },
  {
   "cell_type": "code",
   "execution_count": 8,
   "metadata": {},
   "outputs": [
    {
     "output_type": "stream",
     "name": "stdout",
     "text": [
      "Total de notas gerais nulas:  43839\n"
     ]
    }
   ],
   "source": [
    "# Contar o número de nulos\n",
    "NT_GER_TOTAL_NULLS = enade_df.NT_GER.isnull().sum()\n",
    "print('Total de notas gerais nulas: ',NT_GER_TOTAL_NULLS)"
   ]
  },
  {
   "cell_type": "code",
   "execution_count": 9,
   "metadata": {},
   "outputs": [
    {
     "output_type": "stream",
     "name": "stdout",
     "text": [
      "% de notas gerais nulas em relação ao total: \n10.1%\n"
     ]
    }
   ],
   "source": [
    "# Porcentagem de nulos em relação ao total de linhas\n",
    "\n",
    "print(f'% de notas gerais nulas em relação ao total: \\n{round((NT_GER_TOTAL_NULLS / enade_df.shape[0]) * 100, 2)}%')"
   ]
  },
  {
   "source": [
    "# Transformações"
   ],
   "cell_type": "markdown",
   "metadata": {}
  },
  {
   "cell_type": "code",
   "execution_count": 17,
   "metadata": {},
   "outputs": [],
   "source": [
    "# Define se o aluno pertence a uma instituição pública ou privada\n",
    "\n",
    "enade_df.loc[\n",
    "    enade_df.CO_CATEGAD.isin([118, 120, 121, 10005, 10006, 10007, 10008, 10009, 17634]),\n",
    "    'DESC_PUBLICA'\n",
    "] = 'Privado'\n"
   ]
  },
  {
   "cell_type": "code",
   "execution_count": 18,
   "metadata": {},
   "outputs": [],
   "source": [
    "enade_df.loc[\n",
    "    enade_df.CO_CATEGAD.isin([93, 115, 116, 10001, 10002, 10003]),\n",
    "    'DESC_PUBLICA'\n",
    "] = 'Público'"
   ]
  },
  {
   "cell_type": "code",
   "execution_count": 19,
   "metadata": {},
   "outputs": [
    {
     "output_type": "stream",
     "name": "stdout",
     "text": [
      "Privado    332879\nPúblico    101051\nName: DESC_PUBLICA, dtype: int64\n"
     ]
    }
   ],
   "source": [
    "print(enade_df.DESC_PUBLICA.value_counts())"
   ]
  },
  {
   "cell_type": "code",
   "execution_count": 20,
   "metadata": {},
   "outputs": [
    {
     "output_type": "stream",
     "name": "stdout",
     "text": [
      "\nInformações sobre: Porpoção de alunos de instituições públicas e privadas em relação ao total de alunos em %\nPrivado    76.71\nPúblico    23.29\nName: DESC_PUBLICA, dtype: float64\n"
     ]
    }
   ],
   "source": [
    "print('\\nInformações sobre: Porpoção de alunos de instituições públicas e privadas em relação ao total de alunos em %')\n",
    "print(f'{round((enade_df.DESC_PUBLICA.value_counts() / enade_df.shape[0]) * 100, 2)}')\n"
   ]
  },
  {
   "source": [
    "### Coluna modalidade"
   ],
   "cell_type": "markdown",
   "metadata": {}
  },
  {
   "cell_type": "code",
   "execution_count": 21,
   "metadata": {},
   "outputs": [],
   "source": [
    "enade_df['CO_MODALIDADE'] = enade_df.CO_MODALIDADE.replace({\n",
    "    0: 'EAD',\n",
    "    1: 'Presencial'\n",
    "})"
   ]
  },
  {
   "source": [
    "### Coluna CO_REGIAO_CURSO"
   ],
   "cell_type": "markdown",
   "metadata": {}
  },
  {
   "cell_type": "code",
   "execution_count": 22,
   "metadata": {},
   "outputs": [],
   "source": [
    "enade_df['CO_REGIAO_CURSO'] = enade_df.CO_REGIAO_CURSO.replace({\n",
    "    1: 'Norte',\n",
    "    2: 'Nordeste',\n",
    "    3: 'Sudeste',\n",
    "    4: 'Sul',\n",
    "    5: 'Centro-Oeste'\n",
    "})"
   ]
  },
  {
   "source": [
    "### Coluna QE_I02 - Cor ou raça "
   ],
   "cell_type": "markdown",
   "metadata": {}
  },
  {
   "cell_type": "code",
   "execution_count": 23,
   "metadata": {},
   "outputs": [],
   "source": [
    "enade_df['DESC_COR'] = enade_df.QE_I02.replace({\n",
    "    'A': 'Branca',\n",
    "    'B': 'Preta',\n",
    "    'C': 'Amarela',\n",
    "    'D': 'Parda',\n",
    "    'E': 'Indígena',\n",
    "    'F': pd.NA,\n",
    "    ' ': pd.NA \n",
    "})"
   ]
  },
  {
   "source": [
    "Utilizamos pd.NA para tranformar os valores faltantes em valores nulos"
   ],
   "cell_type": "markdown",
   "metadata": {}
  },
  {
   "cell_type": "code",
   "execution_count": 26,
   "metadata": {},
   "outputs": [],
   "source": [
    "enade_df = enade_df.loc[\n",
    "    enade_df.CO_UF_CURSO == 31\n",
    "]"
   ]
  },
  {
   "cell_type": "code",
   "execution_count": 27,
   "metadata": {},
   "outputs": [
    {
     "output_type": "execute_result",
     "data": {
      "text/plain": [
       "53656"
      ]
     },
     "metadata": {},
     "execution_count": 27
    }
   ],
   "source": [
    "len(enade_df)"
   ]
  },
  {
   "source": [
    "### Gerando um arquivo csv com os alunos filtrados para os que moram em Minas Gerais"
   ],
   "cell_type": "markdown",
   "metadata": {}
  },
  {
   "cell_type": "code",
   "execution_count": 32,
   "metadata": {},
   "outputs": [],
   "source": [
    "with open('enade_alunos_mg.csv', 'w') as file:\n",
    "    file.write(enade_df.to_csv(sep=';', index=False, decimal=','))"
   ]
  },
  {
   "source": [
    "### Chamando script de load"
   ],
   "cell_type": "markdown",
   "metadata": {}
  },
  {
   "cell_type": "code",
   "execution_count": 34,
   "metadata": {},
   "outputs": [
    {
     "output_type": "execute_result",
     "data": {
      "text/plain": [
       "2"
      ]
     },
     "metadata": {},
     "execution_count": 34
    }
   ],
   "source": [
    "os.system('python load_data.ipynb')"
   ]
  },
  {
   "source": [
    "### Continua no script\n",
    "`load_data.ipynb`"
   ],
   "cell_type": "markdown",
   "metadata": {}
  },
  {
   "cell_type": "code",
   "execution_count": null,
   "metadata": {},
   "outputs": [],
   "source": []
  }
 ]
}